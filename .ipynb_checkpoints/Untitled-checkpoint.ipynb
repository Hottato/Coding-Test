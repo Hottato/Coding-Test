{
 "cells": [
  {
   "cell_type": "code",
   "execution_count": 1,
   "id": "041c7fde-a94f-4139-92f8-d30f505eeca7",
   "metadata": {},
   "outputs": [],
   "source": [
    "from collections import deque"
   ]
  },
  {
   "cell_type": "code",
   "execution_count": 5,
   "id": "617ea142-b6c9-4e13-b30c-8a89d825721e",
   "metadata": {},
   "outputs": [
    {
     "name": "stdin",
     "output_type": "stream",
     "text": [
      " 5 6\n"
     ]
    }
   ],
   "source": [
    "n,m = map(int,input().split())"
   ]
  },
  {
   "cell_type": "code",
   "execution_count": 6,
   "id": "b0d36b4d-fcc4-473c-91d1-3b419da61dd8",
   "metadata": {},
   "outputs": [
    {
     "name": "stdin",
     "output_type": "stream",
     "text": [
      " 101010\n",
      " 111111\n",
      " 000001\n",
      " 111111\n",
      " 111111\n"
     ]
    }
   ],
   "source": [
    "graph =[]\n",
    "\n",
    "\n",
    "for i in range(n):\n",
    "    graph.append(map(int,input()))"
   ]
  },
  {
   "cell_type": "code",
   "execution_count": 7,
   "id": "8a136221-f3a2-414e-b6a3-429506b3c856",
   "metadata": {},
   "outputs": [],
   "source": [
    "dx=[-1,1,0,0]\n",
    "dy=[0,0,-1,1]"
   ]
  },
  {
   "cell_type": "code",
   "execution_count": 7,
   "id": "3c001a44-a922-4b21-8941-e021b514e25a",
   "metadata": {},
   "outputs": [],
   "source": []
  },
  {
   "cell_type": "code",
   "execution_count": 7,
   "id": "10592986-4b99-43d7-9ef3-0b2d0586daa9",
   "metadata": {},
   "outputs": [],
   "source": []
  },
  {
   "cell_type": "code",
   "execution_count": 32,
   "id": "60d0719a-9719-4e43-b66e-66f924ea58f8",
   "metadata": {},
   "outputs": [
    {
     "name": "stdin",
     "output_type": "stream",
     "text": [
      " 101010\n",
      " 111111\n",
      " 000001\n",
      " 111111\n",
      " 111111\n"
     ]
    },
    {
     "name": "stdout",
     "output_type": "stream",
     "text": [
      "10\n"
     ]
    }
   ],
   "source": [
    "graph =[]\n",
    "\n",
    "\n",
    "for i in range(n):\n",
    "    graph.append(list(map(int,input())))\n",
    "\n",
    "    \n",
    "# BFS 소스코드 구현\n",
    "def bfs(x, y):\n",
    "    # 큐(Queue) 구현을 위해 deque 라이브러리 사용\n",
    "    queue = deque()\n",
    "    queue.append((x, y))\n",
    "    # 큐가 빌 때까지 반복하기\n",
    "    while queue:\n",
    "        x, y = queue.popleft()\n",
    "        # 현재 위치에서 4가지 방향으로의 위치 확인\n",
    "        for i in range(4):\n",
    "            nx = x + dx[i]\n",
    "            ny = y + dy[i]\n",
    "            # 미로 찾기 공간을 벗어난 경우 무시\n",
    "            if nx < 0 or nx >= n or ny < 0 or ny >= m:\n",
    "                continue\n",
    "            # 벽인 경우 무시\n",
    "            if graph[nx][ny] == 0:\n",
    "                continue\n",
    "            # 해당 노드를 처음 방문하는 경우에만 최단 거리 기록\n",
    "            if graph[nx][ny] == 1:\n",
    "                graph[nx][ny] = graph[x][y] + 1\n",
    "                queue.append((nx, ny))\n",
    "    # 가장 오른쪽 아래까지의 최단 거리 반환\n",
    "    return graph[n - 1][m - 1]\n",
    "\n",
    "    \n",
    "print(bfs(0,0))"
   ]
  },
  {
   "cell_type": "code",
   "execution_count": 18,
   "id": "d8d02f3a-4b60-4fff-a9dc-cacfa3d5c4d1",
   "metadata": {},
   "outputs": [],
   "source": [
    "dx= [-1,1,0,0]\n",
    "dy= [0,0,-1,1]"
   ]
  },
  {
   "cell_type": "code",
   "execution_count": 30,
   "id": "f01750ee-91ea-402c-87d6-f49623143c59",
   "metadata": {},
   "outputs": [
    {
     "name": "stdin",
     "output_type": "stream",
     "text": [
      " 101010\n",
      " 111111\n",
      " 000001\n",
      " 111111\n",
      " 111111\n"
     ]
    }
   ],
   "source": [
    "graph =[] \n",
    "\n",
    "for i in range(n):\n",
    "    graph.append(list(map(int,input())))\n",
    "\n",
    "def bfs(x,y):\n",
    "    \n",
    "    \n",
    "    #큐부터 생성하자\n",
    "    \n",
    "    queue = deque()\n",
    "    #시작점 큐에 추가 -> 0,0\n",
    "    queue.append((x,y))\n",
    "    \n",
    "    #반복문 시작\n",
    "    \n",
    "    while queue:\n",
    "        # 큐에서 꺼냄\n",
    "        \n",
    "        x,y = queue.popleft()\n",
    "        \n",
    "        #4방향으로 확인!\n",
    "        for i in range(4):\n",
    "            \n",
    "            #탐색 시작\n",
    "            nx = x+ dx[i]\n",
    "            ny = y+ dy[i]\n",
    "            \n",
    "            #확인작업\n",
    "            # 먼저 범위가 벗어난것들\n",
    "            \n",
    "            if nx<0 or nx>=n or ny <0 or ny>=m:\n",
    "                continue\n",
    "                # for문을 끝내버린다\n",
    "                \n",
    "            # 0을 만날경우-> 무시해야한다.\n",
    "            \n",
    "            if graph[nx][ny]== 0:\n",
    "                \n",
    "                continue\n",
    "                \n",
    "            # 1을 만날경우 \n",
    "            \n",
    "            if graph[nx][ny] == 1:\n",
    "                \n",
    "                # 방문처리\n",
    "                \n",
    "                graph[nx][ny] = graph[x][y] + 1\n",
    "                \n",
    "                # 방문좌표 큐안에 넣기\n",
    "                queue.append((nx,ny))\n",
    "        \n",
    "        # bfs 끝난후 도착좌표 의 값 반한\n",
    "        return graph[nx -1][ny-1]\n",
    "                \n",
    "      \n",
    "                \n",
    "                "
   ]
  },
  {
   "cell_type": "code",
   "execution_count": 31,
   "id": "2e1da422-3226-4897-826d-6b8ee2051b2c",
   "metadata": {},
   "outputs": [
    {
     "data": {
      "text/plain": [
       "1"
      ]
     },
     "execution_count": 31,
     "metadata": {},
     "output_type": "execute_result"
    }
   ],
   "source": [
    "bfs(0,0)"
   ]
  },
  {
   "cell_type": "code",
   "execution_count": null,
   "id": "815beb2b-d4d5-4a31-8c1e-49c0d17788c6",
   "metadata": {},
   "outputs": [],
   "source": []
  }
 ],
 "metadata": {
  "kernelspec": {
   "display_name": "Python 3",
   "language": "python",
   "name": "python3"
  },
  "language_info": {
   "codemirror_mode": {
    "name": "ipython",
    "version": 3
   },
   "file_extension": ".py",
   "mimetype": "text/x-python",
   "name": "python",
   "nbconvert_exporter": "python",
   "pygments_lexer": "ipython3",
   "version": "3.8.8"
  }
 },
 "nbformat": 4,
 "nbformat_minor": 5
}
