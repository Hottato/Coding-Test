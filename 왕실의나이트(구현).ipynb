{
 "cells": [
  {
   "cell_type": "code",
   "execution_count": 4,
   "id": "041c7fde-a94f-4139-92f8-d30f505eeca7",
   "metadata": {},
   "outputs": [],
   "source": [
    "from collections import deque"
   ]
  },
  {
   "cell_type": "code",
   "execution_count": 5,
   "id": "617ea142-b6c9-4e13-b30c-8a89d825721e",
   "metadata": {},
   "outputs": [
    {
     "name": "stdin",
     "output_type": "stream",
     "text": [
      " 5 6\n"
     ]
    }
   ],
   "source": [
    "n,m = map(int,input().split())"
   ]
  },
  {
   "cell_type": "code",
   "execution_count": 6,
   "id": "b0d36b4d-fcc4-473c-91d1-3b419da61dd8",
   "metadata": {},
   "outputs": [
    {
     "name": "stdin",
     "output_type": "stream",
     "text": [
      " 101010\n",
      " 111111\n",
      " 000001\n",
      " 111111\n",
      " 111111\n"
     ]
    }
   ],
   "source": [
    "graph =[]\n",
    "\n",
    "\n",
    "for i in range(n):\n",
    "    graph.append(map(int,input()))"
   ]
  },
  {
   "cell_type": "code",
   "execution_count": 7,
   "id": "8a136221-f3a2-414e-b6a3-429506b3c856",
   "metadata": {},
   "outputs": [],
   "source": [
    "dx=[-1,1,0,0]\n",
    "dy=[0,0,-1,1]"
   ]
  },
  {
   "cell_type": "code",
   "execution_count": 7,
   "id": "3c001a44-a922-4b21-8941-e021b514e25a",
   "metadata": {},
   "outputs": [],
   "source": []
  },
  {
   "cell_type": "code",
   "execution_count": 7,
   "id": "10592986-4b99-43d7-9ef3-0b2d0586daa9",
   "metadata": {},
   "outputs": [],
   "source": []
  },
  {
   "cell_type": "code",
   "execution_count": 31,
   "id": "60d0719a-9719-4e43-b66e-66f924ea58f8",
   "metadata": {},
   "outputs": [
    {
     "name": "stdin",
     "output_type": "stream",
     "text": [
      " 101010\n",
      " 111111\n",
      " 000001\n",
      " 111111\n",
      " 111111\n"
     ]
    },
    {
     "name": "stdout",
     "output_type": "stream",
     "text": [
      "10\n"
     ]
    }
   ],
   "source": [
    "graph =[]\n",
    "\n",
    "\n",
    "for i in range(n):\n",
    "    graph.append(list(map(int,input())))\n",
    "\n",
    "    \n",
    "def bfs(x,y):\n",
    "    \n",
    "    \n",
    "    #큐부터 생성하자\n",
    "    \n",
    "    queue = deque()\n",
    "    #시작점 큐에 추가 -> 0,0\n",
    "    queue.append((x,y))\n",
    "    \n",
    "    #반복문 시작\n",
    "    \n",
    "    while queue:\n",
    "    \n",
    "        # 큐에서 꺼냄\n",
    "        \n",
    "        x,y = queue.popleft()\n",
    "        \n",
    "        #4방향으로 확인!\n",
    "        for i in range(4):\n",
    "            \n",
    "            #탐색 시작\n",
    "            nx = x+ dx[i]\n",
    "            ny = y+ dy[i]\n",
    "            \n",
    "            #확인작업\n",
    "            # 먼저 범위가 벗어난것들\n",
    "            \n",
    "            if nx<0 or nx>=n or ny <0 or ny>=m:\n",
    "                continue\n",
    "                # for문을 끝내버린다\n",
    "                \n",
    "            # 0을 만날경우-> 무시해야한다.\n",
    "            \n",
    "            if graph[nx][ny]== 0:\n",
    "                \n",
    "                continue\n",
    "                \n",
    "            # 1을 만날경우 \n",
    "            \n",
    "            if graph[nx][ny] == 1:\n",
    "                \n",
    "                # 방문처리\n",
    "                \n",
    "                graph[nx][ny] = graph[x][y] + 1\n",
    "                \n",
    "                # 방문좌표 큐안에 넣기\n",
    "                queue.append((nx,ny))\n",
    "        \n",
    "        # bfs 끝난후 도착좌표 의 값 반한\n",
    "    return graph[n -1][m-1]\n",
    "                \n",
    "    \n",
    "print(bfs(0,0))"
   ]
  },
  {
   "cell_type": "code",
   "execution_count": 18,
   "id": "d8d02f3a-4b60-4fff-a9dc-cacfa3d5c4d1",
   "metadata": {},
   "outputs": [],
   "source": []
  },
  {
   "cell_type": "code",
   "execution_count": 19,
   "id": "09176bdc-dfcd-4ac3-af96-f918fb1c4452",
   "metadata": {},
   "outputs": [
    {
     "name": "stdin",
     "output_type": "stream",
     "text": [
      " 5 6\n",
      " 101010\n",
      " 111111\n",
      " 000001\n",
      " 111111\n",
      " 111111\n"
     ]
    }
   ],
   "source": [
    "n,m = map(int,input().split())\n",
    "\n",
    "graph =[] \n",
    "\n",
    "\n",
    "dx= [-1,1,0,0]\n",
    "dy= [0,0,-1,1]\n",
    "\n",
    "\n",
    "\n",
    "\n",
    "for i in range(n):\n",
    "    graph.append(list(map(int,input())))"
   ]
  },
  {
   "cell_type": "code",
   "execution_count": 26,
   "id": "b2148443-e7b5-428d-a79d-ee14169bac8d",
   "metadata": {},
   "outputs": [],
   "source": [
    "def bfs(x,y):\n",
    "    \n",
    "    \n",
    "    #큐부터 생성하자\n",
    "    \n",
    "    queue = deque()\n",
    "    #시작점 큐에 추가 -> 0,0\n",
    "    queue.append((x,y))\n",
    "    \n",
    "    #반복문 시작\n",
    "    \n",
    "    while queue:\n",
    "    \n",
    "        # 큐에서 꺼냄\n",
    "        \n",
    "        x,y = queue.popleft()\n",
    "        \n",
    "        #4방향으로 확인!\n",
    "        for i in range(4):\n",
    "            \n",
    "            #탐색 시작\n",
    "            nx = x+ dx[i]\n",
    "            ny = y+ dy[i]\n",
    "            \n",
    "            #확인작업\n",
    "            # 먼저 범위가 벗어난것들\n",
    "            \n",
    "            if nx<0 or nx>=n or ny <0 or ny>=m:\n",
    "                continue\n",
    "                # for문을 끝내버린다\n",
    "                \n",
    "            # 0을 만날경우-> 무시해야한다.\n",
    "            \n",
    "            if graph[nx][ny]== 0:\n",
    "                \n",
    "                continue\n",
    "                \n",
    "            # 1을 만날경우 \n",
    "            \n",
    "            if graph[nx][ny] == 1:\n",
    "                \n",
    "                # 방문처리\n",
    "                \n",
    "                graph[nx][ny] = graph[x][y] + 1\n",
    "                \n",
    "                # 방문좌표 큐안에 넣기\n",
    "                queue.append((nx,ny))\n",
    "        \n",
    "        # bfs 끝난후 도착좌표 의 값 반한\n",
    "    return graph[n -1][m-1]\n",
    "                \n",
    "      \n",
    "                \n",
    "                "
   ]
  },
  {
   "cell_type": "code",
   "execution_count": 29,
   "id": "2e1da422-3226-4897-826d-6b8ee2051b2c",
   "metadata": {},
   "outputs": [
    {
     "name": "stdout",
     "output_type": "stream",
     "text": [
      "1\n"
     ]
    }
   ],
   "source": [
    "print(bfs(0,0))"
   ]
  },
  {
   "cell_type": "code",
   "execution_count": 32,
   "id": "815beb2b-d4d5-4a31-8c1e-49c0d17788c6",
   "metadata": {},
   "outputs": [
    {
     "data": {
      "text/plain": [
       "[[3, 0, 5, 0, 7, 0],\n",
       " [2, 3, 4, 5, 6, 7],\n",
       " [0, 0, 0, 0, 0, 8],\n",
       " [14, 13, 12, 11, 10, 9],\n",
       " [15, 14, 13, 12, 11, 10]]"
      ]
     },
     "execution_count": 32,
     "metadata": {},
     "output_type": "execute_result"
    }
   ],
   "source": [
    "graph"
   ]
  },
  {
   "cell_type": "code",
   "execution_count": null,
   "id": "4dbfa4db-c7c5-4d08-848b-2171e0f63978",
   "metadata": {},
   "outputs": [],
   "source": [
    "[[1, 0, 1, 0, 1, 0],\n",
    " [2, 3, 4, 1, 1, 1],\n",
    " [0, 0, 0, 0, 0, 1],\n",
    " [1, 1, 1, 1, 1, 1],\n",
    " [1, 1, 1, 1, 1, 1]]"
   ]
  }
 ],
 "metadata": {
  "kernelspec": {
   "display_name": "Python 3",
   "language": "python",
   "name": "python3"
  },
  "language_info": {
   "codemirror_mode": {
    "name": "ipython",
    "version": 3
   },
   "file_extension": ".py",
   "mimetype": "text/x-python",
   "name": "python",
   "nbconvert_exporter": "python",
   "pygments_lexer": "ipython3",
   "version": "3.8.8"
  }
 },
 "nbformat": 4,
 "nbformat_minor": 5
}
